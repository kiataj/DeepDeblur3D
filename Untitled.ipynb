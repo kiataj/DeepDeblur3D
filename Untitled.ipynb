{
 "cells": [
  {
   "cell_type": "code",
   "execution_count": 3,
   "id": "da74eeb7-7f53-4777-90f8-be388156ce94",
   "metadata": {},
   "outputs": [
    {
     "name": "stdout",
     "output_type": "stream",
     "text": [
      "Input volume: (183, 979, 1546) float32 min/max 0.000/1.000\n"
     ]
    },
    {
     "name": "stderr",
     "output_type": "stream",
     "text": [
      "WARNING: QWindowsWindow::setGeometry: Unable to set geometry 1920x1137+640+340 (frame: 1936x1176+632+309) on QWidgetWindow/\"_QtMainWindowClassWindow\" on \"\\\\.\\DISPLAY1\". Resulting geometry: 1916x1137+640+340 (frame: 1932x1176+632+309) margins: 8, 31, 8, 8 minimum size: 385x497 MINMAXINFO maxSize=0,0 maxpos=0,0 mintrack=401,536 maxtrack=0,0)\n"
     ]
    }
   ],
   "source": [
    "# --- CONFIG ---\n",
    "vol_path   = r\"U:\\users\\taki\\vizualization\\SlicesY-B17.123120 reb unten.tif\"   # <-- set this\n",
    "ckpt_path  = \"deblur3d_unet.pt\"                        # model checkpoint\n",
    "base, levels = 24, 4                                   # must match training\n",
    "tile     = (64, 256, 256)                              # adjust to fit GPU RAM\n",
    "overlap  = (32, 128, 128)                              # smooth seams\n",
    "spacing  = (1.0, 1.0, 1.0)                             # z,y,x voxel size for napari\n",
    "\n",
    "import os, torch, torch.nn as nn, torch.nn.functional as F\n",
    "from deblur3d.models import UNet3D_Residual, ControlledUNet3D\n",
    "from deblur3d.infer import deblur_volume_tiled\n",
    "from deblur3d.data import read_volume_float01\n",
    "\n",
    "# --- Load volume via your data module ---\n",
    "vol = read_volume_float01(vol_path)  # returns (D,H,W) float32 in [0,1]\n",
    "print(\"Input volume:\", vol.shape, vol.dtype, f\"min/max {vol.min():.3f}/{vol.max():.3f}\")\n",
    "\n",
    "# --- Load trained base net and wrap with controller ---\n",
    "device = torch.device(\"cuda\" if torch.cuda.is_available() else \"cpu\")\n",
    "assert os.path.exists(ckpt_path), f\"Checkpoint not found: {ckpt_path}\"\n",
    "net = UNet3D_Residual(in_ch=1, base=base, levels=levels).to(device)\n",
    "obj = torch.load(ckpt_path, map_location=device)\n",
    "net.load_state_dict(obj.get(\"state_dict\", obj))\n",
    "net.eval()\n",
    "ctrl = ControlledUNet3D(net).to(device).eval()\n",
    "\n",
    "# --- Define three control presets ---\n",
    "presets = [\n",
    "    (\"Deblurred α=1.0\", dict(strength=1.0)),                                   # baseline\n",
    "    (\"Deblurred α=2.0\",    dict(strength=2.0)),                                   # gentler\n",
    "    (\"Deblurred α=5.0\", dict(strength=5.0)),\n",
    "]\n",
    "\n",
    "# Small wrapper so deblur_volume_tiled can call it like a net\n",
    "class NetWithControl(nn.Module):\n",
    "    def __init__(self, ctrl: ControlledUNet3D, **ctrl_kwargs):\n",
    "        super().__init__()\n",
    "        self.ctrl = ctrl\n",
    "        self.ctrl_kwargs = ctrl_kwargs\n",
    "    @torch.no_grad()\n",
    "    def forward(self, x):\n",
    "        return self.ctrl(x, **self.ctrl_kwargs)\n",
    "\n",
    "# --- Run tiled inference for each preset ---\n",
    "preds = []\n",
    "for name, kw in presets:\n",
    "    net_ctrl = NetWithControl(ctrl, **kw).eval()\n",
    "    out = deblur_volume_tiled(net_ctrl, vol, tile=tile, overlap=overlap, device=device.type, use_amp=False)\n",
    "    preds.append((name, out))\n",
    "\n",
    "# --- Visualize in napari ---\n",
    "import napari\n",
    "v = napari.Viewer(ndisplay=2)\n",
    "L_in = v.add_image(vol,  name=\"Input\", colormap=\"gray\", scale=spacing)\n",
    "for name, arr in preds:\n",
    "    layer = v.add_image(arr, name=name, colormap=\"gray\", scale=spacing, opacity=0.8)\n",
    "    layer.contrast_limits = L_in.contrast_limits\n",
    "napari.run()"
   ]
  },
  {
   "cell_type": "code",
   "execution_count": null,
   "id": "a3e59b7f-1ee2-4e12-a995-91bde135d7cc",
   "metadata": {},
   "outputs": [],
   "source": []
  }
 ],
 "metadata": {
  "kernelspec": {
   "display_name": "Python (deblur3d)",
   "language": "python",
   "name": "deblur3d"
  },
  "language_info": {
   "codemirror_mode": {
    "name": "ipython",
    "version": 3
   },
   "file_extension": ".py",
   "mimetype": "text/x-python",
   "name": "python",
   "nbconvert_exporter": "python",
   "pygments_lexer": "ipython3",
   "version": "3.10.18"
  }
 },
 "nbformat": 4,
 "nbformat_minor": 5
}
