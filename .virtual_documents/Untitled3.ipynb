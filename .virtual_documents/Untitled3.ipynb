from deblur3d.data import MultiPageTiffDataset
from torch.utils.data import DataLoader

index_path = r"T:\users\taki\Dataset_L\index_with_split.xlsx"

ds_train = MultiPageTiffDataset(
    manifest_path=index_path,
    split="train",                 # <- uses the 'split' column
    patch_size=(96,128,128),
    balance=None,         # optional
    samples_per_epoch=None,      # optional
    seed=42,
)

ds_val = MultiPageTiffDataset(
    manifest_path=index_path,
    split="val",
    patch_size=(96,128,128),
    balance=None,
    samples_per_epoch=None,        # iterate once over volumes if you prefer
    seed=43,
)

# Typical loaders
loader_train = DataLoader(ds_train, batch_size=4, shuffle=True,  num_workers=4, pin_memory=True)
loader_val   = DataLoader(ds_val,   batch_size=4, shuffle=False, num_workers=4, pin_memory=True)






