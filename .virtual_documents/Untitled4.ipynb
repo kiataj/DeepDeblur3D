# --- core ---
import os, time, math
from pathlib import Path
import torch
import torch.nn.functional as F
from torch.utils.data import DataLoader
from torch.cuda.amp import autocast, GradScaler

# --- your project modules ---
from deblur3d.losses import DeblurLoss, ssim3d
from deblur3d.models import UNet3D_Residual
from deblur3d.data import MultiPageTiffDataset
from deblur3d.transforms import GaussianIsoBlurCPUTransform

# --- mlflow ---
import mlflow
mlflow.set_tracking_uri("http://127.0.0.1:5000")   # MLflow server URI
mlflow.set_experiment("deblur3d_unet")            # experiment name

# --------- config ---------
index_path      = r"T:\users\taki\Dataset_L\index_with_split.xlsx"  # or .xlsx/.csv
patch_size      = (64, 256, 256)
batch_size      = 4
num_workers     = 4
seed            = 42
epochs          = 20
lr              = 2e-4
weight_decay    = 1e-4
betas           = (0.9, 0.99)
amp_enabled     = torch.cuda.is_available()
save_dir        = Path("./checkpoints"); save_dir.mkdir(parents=True, exist_ok=True)
run_name        = f"unet3d_residual_ps{patch_size}_bs{batch_size}"

# Blur transform (CPU)
blur_tf = GaussianIsoBlurCPUTransform(
    fwhm_range=(8, 10),
    radius_mult=3,
    add_noise=True,
    poisson_gain_range=(300, 900),
    read_noise_std_range=(0.006, 0.015),
)

# Loss
criterion = DeblurLoss(
    w_l1=0.8, w_ssim=0.2, w_freq=0.05, id_weight=0.1,
    use_relative_freq=False, freq_alpha=1.0
)

device = torch.device("cuda" if torch.cuda.is_available() else "cpu")
print("Device:", device)



# Train / Val datasets from the index file with 'split' column
ds_train = MultiPageTiffDataset(
    manifest_path=index_path,
    split="train",
    patch_size=patch_size,
    blur_transform=blur_tf,
    balance=None,              # or "slice_count"
    samples_per_epoch=None,    # set an int to cap per-epoch samples, else len(vols)
    seed=seed,
)

ds_val = MultiPageTiffDataset(
    manifest_path=index_path,
    split="val",
    patch_size=patch_size,
    blur_transform=blur_tf,    # keep or remove blur for val (often you want identity blur)
    balance=None,
    samples_per_epoch=None,
    seed=seed+1,
)

loader_train = DataLoader(
    ds_train,
    batch_size=min(batch_size, len(ds_train)),
    shuffle=True,
    num_workers=num_workers,
    pin_memory=True,
    persistent_workers=(num_workers > 0),
)

loader_val = DataLoader(
    ds_val,
    batch_size=min(batch_size, len(ds_val)),
    shuffle=False,
    num_workers=num_workers,
    pin_memory=True,
    persistent_workers=(num_workers > 0),
)

print(f"Train vols: {len(ds_train)} | Val vols: {len(ds_val)}")


net = UNet3D_Residual(in_ch=1, base=24, levels=4).to(device)
opt = torch.optim.AdamW(net.parameters(), lr=lr, weight_decay=weight_decay, betas=betas)
sched = torch.optim.lr_scheduler.CosineAnnealingLR(opt, T_max=epochs)
scaler = GradScaler(enabled=amp_enabled)

def to_ch(x):  # (B,1,D,H,W)
    return x.unsqueeze(1)


best_psnr = -1.0
best_path = save_dir / "deblur3d_unet_best.pt"

# --- MLflow run ---
with mlflow.start_run(run_name=run_name):
    # Log static params once
    mlflow.log_params({
        "model": "UNet3D_Residual",
        "patch_size": str(patch_size),
        "batch_size": batch_size,
        "num_workers": num_workers,
        "optimizer": "AdamW",
        "lr": lr,
        "weight_decay": weight_decay,
        "betas": str(betas),
        "epochs": epochs,
        "amp": amp_enabled,
        "transform": "GaussianIsoBlurCPUTransform",
        "index_path": index_path,
    })

    for epoch in range(1, epochs + 1):
        t0 = time.perf_counter()
        net.train()
        train_loss_sum = 0.0
        train_count = 0

        for sharp, blurred in loader_train:
            sharp   = to_ch(sharp).to(device, non_blocking=True)
            blurred = to_ch(blurred).to(device, non_blocking=True)

            with autocast(enabled=amp_enabled):
                pred = net(blurred)
                loss = criterion(pred, sharp, blurred)

            scaler.scale(loss).backward()
            scaler.unscale_(opt)
            torch.nn.utils.clip_grad_norm_(net.parameters(), 1.0)
            scaler.step(opt)
            scaler.update()
            opt.zero_grad(set_to_none=True)

            # accumulate
            bsz = sharp.size(0)
            train_loss_sum += loss.item() * bsz
            train_count += bsz

        sched.step()
        train_loss = train_loss_sum / max(train_count, 1)

        # --- validation ---
        net.eval()
        psnr_sum, ssim_sum, val_count = 0.0, 0.0, 0
        with torch.no_grad():
            for sharp, blurred in loader_val:
                sharp   = to_ch(sharp).to(device, non_blocking=True)
                blurred = to_ch(blurred).to(device, non_blocking=True)
                with autocast(enabled=amp_enabled):
                    pred = net(blurred)
                    mse  = F.mse_loss(pred, sharp, reduction='none').mean(dim=(1,2,3,4))
                    psnr = 10 * torch.log10(1.0 / (mse + 1e-12))
                    # ssim3d expects (B,1,D,H,W) in [0,1]
                    ssim_vals = ssim3d(pred, sharp).detach()

                psnr_sum += psnr.sum().item()
                ssim_sum += ssim_vals.sum().item()
                val_count += sharp.size(0)

        val_psnr = psnr_sum / max(val_count, 1)
        val_ssim = ssim_sum / max(val_count, 1)

        # --- timing ---
        epoch_time = time.perf_counter() - t0

        # --- print ---
        print(f"Epoch {epoch:03d} | train_loss {train_loss:.4f} | "
              f"val_psnr {val_psnr:.2f} dB | val_ssim {val_ssim:.4f} | "
              f"time {epoch_time:.1f}s")

        # --- MLflow metrics ---
        mlflow.log_metrics({
            "train_loss": train_loss,
            "val_psnr": val_psnr,
            "val_ssim": val_ssim,
            "epoch_time_s": epoch_time,
            "lr": sched.get_last_lr()[0],
        }, step=epoch)

        # --- save best ---
        if val_psnr > best_psnr:
            best_psnr = val_psnr
            torch.save({"epoch": epoch, "state_dict": net.state_dict()}, best_path)
            mlflow.log_artifact(str(best_path))
            mlflow.log_metric("best_val_psnr", best_psnr, step=epoch)
            print(f"  ↳ saved best: {best_path} (PSNR {best_psnr:.2f} dB)")




