{
 "cells": [
  {
   "cell_type": "code",
   "execution_count": 27,
   "id": "41e721c1-202e-43a8-a1e3-c49950f1e3cd",
   "metadata": {},
   "outputs": [],
   "source": [
    "from deblur3d.data import MultiPageTiffDataset\n",
    "from torch.utils.data import DataLoader\n",
    "\n",
    "index_path = r\"T:\\users\\taki\\Dataset_L\\index_with_split.xlsx\"\n",
    "\n",
    "ds_train = MultiPageTiffDataset(\n",
    "    manifest_path=index_path,\n",
    "    split=\"train\",                 # <- uses the 'split' column\n",
    "    patch_size=(96,128,128),\n",
    "    balance=None,         # optional\n",
    "    samples_per_epoch=None,      # optional\n",
    "    seed=42,\n",
    ")\n",
    "\n",
    "ds_val = MultiPageTiffDataset(\n",
    "    manifest_path=index_path,\n",
    "    split=\"val\",\n",
    "    patch_size=(96,128,128),\n",
    "    balance=None,\n",
    "    samples_per_epoch=None,        # iterate once over volumes if you prefer\n",
    "    seed=43,\n",
    ")\n",
    "\n",
    "# Typical loaders\n",
    "loader_train = DataLoader(ds_train, batch_size=4, shuffle=True,  num_workers=4, pin_memory=True)\n",
    "loader_val   = DataLoader(ds_val,   batch_size=4, shuffle=False, num_workers=4, pin_memory=True)"
   ]
  },
  {
   "cell_type": "code",
   "execution_count": null,
   "id": "492949c4-5507-429f-b16e-a58f9d9bbfea",
   "metadata": {},
   "outputs": [],
   "source": []
  },
  {
   "cell_type": "code",
   "execution_count": null,
   "id": "9e9b4cfe-ae16-4d9a-92ba-ee95a40f2a73",
   "metadata": {},
   "outputs": [],
   "source": []
  }
 ],
 "metadata": {
  "kernelspec": {
   "display_name": "Python (deblur3d)",
   "language": "python",
   "name": "deblur3d"
  },
  "language_info": {
   "codemirror_mode": {
    "name": "ipython",
    "version": 3
   },
   "file_extension": ".py",
   "mimetype": "text/x-python",
   "name": "python",
   "nbconvert_exporter": "python",
   "pygments_lexer": "ipython3",
   "version": "3.10.18"
  }
 },
 "nbformat": 4,
 "nbformat_minor": 5
}
